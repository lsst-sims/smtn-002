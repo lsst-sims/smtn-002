{
 "cells": [
  {
   "cell_type": "markdown",
   "metadata": {},
   "source": [
    "# Finding fiducial magnitudes for $t_{\\mbox{eff}}$"
   ]
  },
  {
   "cell_type": "markdown",
   "metadata": {},
   "source": [
    "## Introduction"
   ]
  },
  {
   "cell_type": "markdown",
   "metadata": {},
   "source": [
    "$t_{\\mbox{eff}}$ is a measure of depth, related to limiting magnitude as:\n",
    "\n",
    "\\begin{align}\n",
    "t_{\\mbox{eff}} & = 10^{\\frac{4}{5}(m_\\circ - m_{\\mbox{lim}})} \\\\\n",
    "m_{\\mbox{lim}} & = m_\\circ + 1.25 \\log t_{\\mbox{eff}}\n",
    "\\end{align}\n",
    "\n",
    "such limiting magnitude varies with $t_{\\mbox{eff}}$ in the same way as it varies with exposure time.\n",
    "\n",
    "The constant $m_\\circ$ provides a reference point, defining at what magnitude $t_{\\mbox{eff}} = 1$, analogous to the constant reference magnitude in the definition of a magnitude system: accumulated $t_{\\mbox{eff}}$ represents the progress made toward reaching a target coadd limiting magnitude, as measured in exposure time under constant conditions. If $m_\\circ$ is the typical limiting magnitude for the instrument under real conditions, the difference between the accumulated $t_{\\mbox{eff}}$ and the $t_{\\mbox{eff}}$ corresponding to the target limiting magnitude is a good approximation of the total exposure time needed to attain the target limiting magnitude. If $m_\\circ$ is different from that typical for the instrument, then the remaining $t_{\\mbox{eff}}$ will be related to the remaining needed exposure time by a scaling factor. \n",
    "\n",
    "A reasonable fiducial magnitude for a given instrument is to define for $t_{\\mbox{eff}}=1$ for optimally pointing images under typical conditions: taken at zenith, during dark time, in typical seeing. With this fiducial magnitude, the remaining needed $t_{\\mbox{eff}}$ matches the remaining exposure time if optimally scheduled, and the target limiting magnitude varies with the zenith distance at transit.\n",
    "\n",
    "`opsim` provides a function, `m5_flat_sed`, to calculate the limiting magnitude (including various throughputs, etc.) under a given set of conditions (seeing, airmass, and sky brightness) using parameters provided by system engineering.\n",
    "\n",
    "The initial section of this notebook uses the mean log Fried parameter (according to the model described in RTN-022) to deteremine the seeing, the sky brightness model used by `opsim` in full dark conditions, zenith pointing (airmass=1), and `m5_flat_sed` to compute fiducial zero points for $t_{\\mbox{eff}}$.\n",
    "\n",
    "The later section of the notebook generates magnitude using different assumptions about the throughput, seeing, sky brightness, and airmass to trace the differences between magnitudes derived from the SRD and estimates based on the latest assumptions used by `opsim`."
   ]
  },
  {
   "cell_type": "markdown",
   "metadata": {},
   "source": [
    "For discussion related to this notebook and the resoning behind it, see the conversations in the `survey-strategy-team` LSSTC slack channel starting April 9, 2021 (around [here](https://lsstc.slack.com/archives/G6MP1HTDW/p1617997908069200)), through April 20th."
   ]
  },
  {
   "cell_type": "markdown",
   "metadata": {},
   "source": [
    "## Notebook setup"
   ]
  },
  {
   "cell_type": "markdown",
   "metadata": {},
   "source": [
    "### Logging"
   ]
  },
  {
   "cell_type": "markdown",
   "metadata": {},
   "source": [
    "Do it first so I can use logging to track how long imports take."
   ]
  },
  {
   "cell_type": "code",
   "execution_count": null,
   "metadata": {},
   "outputs": [],
   "source": [
    "import logging\n",
    "logging.basicConfig(format='%(asctime)s %(message)s')\n",
    "logger = logging.getLogger(__name__)\n",
    "logger.setLevel('DEBUG')\n",
    "logger.info(\"Starting\")"
   ]
  },
  {
   "cell_type": "markdown",
   "metadata": {},
   "source": [
    "### Imports"
   ]
  },
  {
   "cell_type": "code",
   "execution_count": null,
   "metadata": {},
   "outputs": [],
   "source": [
    "import os\n",
    "import os.path\n",
    "import copy\n",
    "import pickle\n",
    "import urllib\n",
    "from os import path\n",
    "from tempfile import TemporaryDirectory"
   ]
  },
  {
   "cell_type": "code",
   "execution_count": null,
   "metadata": {},
   "outputs": [],
   "source": [
    "logger.debug(\"Loading common modules\")\n",
    "import pandas as pd\n",
    "import numpy as np\n",
    "import matplotlib as mpl\n",
    "import matplotlib.pyplot as plt\n",
    "import sqlite3"
   ]
  },
  {
   "cell_type": "code",
   "execution_count": null,
   "metadata": {},
   "outputs": [],
   "source": [
    "logger.debug(\"Loading general astronomy modules\")\n",
    "import healpy\n",
    "import palpy\n",
    "import astropy\n",
    "import astropy.coordinates\n",
    "from astropy.coordinates import EarthLocation\n",
    "from astropy.time import Time\n",
    "import astropy.units as u"
   ]
  },
  {
   "cell_type": "code",
   "execution_count": null,
   "metadata": {},
   "outputs": [],
   "source": [
    "logger.debug(\"Loading rubin-scheduler modules\")\n",
    "import rubin_scheduler\n",
    "import rubin_scheduler.site_models\n",
    "from rubin_scheduler.utils import m5_flat_sed\n",
    "from rubin_scheduler.site_models import SeeingData, SeeingModel\n",
    "from rubin_scheduler.site_models import CloudData\n",
    "from rubin_scheduler.skybrightness_pre import SkyModelPre\n",
    "from rubin_scheduler.utils import survey_start_mjd\n",
    "\n",
    "from rubin_sim.data import get_baseline"
   ]
  },
  {
   "cell_type": "markdown",
   "metadata": {},
   "source": [
    "### Plot setup"
   ]
  },
  {
   "cell_type": "code",
   "execution_count": null,
   "metadata": {},
   "outputs": [],
   "source": [
    "mpl.rcParams['figure.figsize'] = (8, 5)\n",
    "plt.style.use('ggplot')\n",
    "np.random.seed(6563)"
   ]
  },
  {
   "cell_type": "markdown",
   "metadata": {},
   "source": [
    "### Constants"
   ]
  },
  {
   "cell_type": "code",
   "execution_count": null,
   "metadata": {},
   "outputs": [],
   "source": [
    "sky_model = SkyModelPre()\n",
    "site = EarthLocation.of_site('Cerro Pachon')\n",
    "mean_log_r0 = -0.9163 ;# See RTN-022, table 1\n",
    "mjd_sample_rate = 0.01 ;# Every 0.01 days = every 14.4 minutes\n",
    "original_median_seeing500 = 0.62\n",
    "data_dir = '.'\n",
    "# opsim_origin = 'https://lsst.ncsa.illinois.edu/sim-data/sims_featureScheduler_runs1.7/baseline/baseline_nexp2_v1.7_10yrs.db'\n",
    "opsim_origin = get_baseline()"
   ]
  },
  {
   "cell_type": "code",
   "execution_count": null,
   "metadata": {},
   "outputs": [],
   "source": [
    "bands = pd.DataFrame({\n",
    "    'band': ('u', 'g', 'r', 'i', 'z', 'y'),\n",
    "    'min_wavelength': (350.0, 400.0, 552.0, 691.0, 818.0, 949.0),\n",
    "    'max_wavelength': (400.0, 552.0, 691.2, 818.0, 922.0, 1060.0)}\n",
    ").set_index('band', drop=False)\n",
    "bands"
   ]
  },
  {
   "cell_type": "code",
   "execution_count": null,
   "metadata": {},
   "outputs": [],
   "source": [
    "sun_cache_fname = 'sun_cache.pickle'\n",
    "moon_cache_fname = 'moon_cache.pickle'\n",
    "sky_cache_fname = 'sky_cache.pickle'\n",
    "sky_x12_cache_fname = 'sky_x12_cache.pickle'\n",
    "visit_cache = 'opsim_visits.h5'"
   ]
  },
  {
   "cell_type": "markdown",
   "metadata": {},
   "source": [
    "### Retrieving data"
   ]
  },
  {
   "cell_type": "code",
   "execution_count": null,
   "metadata": {},
   "outputs": [],
   "source": [
    "opsim_fname = get_baseline()"
   ]
  },
  {
   "cell_type": "code",
   "execution_count": null,
   "metadata": {},
   "outputs": [],
   "source": [
    "opsim_name = os.path.splitext(os.path.split(opsim_fname)[-1])[0]\n",
    "print(opsim_name)"
   ]
  },
  {
   "cell_type": "markdown",
   "metadata": {},
   "source": [
    "### Configuration"
   ]
  },
  {
   "cell_type": "code",
   "execution_count": null,
   "metadata": {},
   "outputs": [],
   "source": [
    "pd.set_option('display.float_format', lambda x: '%.2f' % x)"
   ]
  },
  {
   "cell_type": "markdown",
   "metadata": {},
   "source": [
    "## Seeing"
   ]
  },
  {
   "cell_type": "markdown",
   "metadata": {},
   "source": [
    "The seeing model of RTN-022 provides a mean log r0 (Fried parameter), which provides an average seeing. Begin by transforming that to a von Karman seeing with an outer scale of 30m:"
   ]
  },
  {
   "cell_type": "code",
   "execution_count": null,
   "metadata": {},
   "outputs": [],
   "source": [
    "def vk_seeing(r0, outer_scale=30.0, wavelength=5.0e-7):\n",
    "    \"\"\"Calculate the seeing using a von Karman model.\n",
    "\n",
    "    See Tokovinin 2002PASP..114.1156T\n",
    "\n",
    "    Args:\n",
    "        r0: the Fried parameter, in meters\n",
    "        outer_scale: the von Karman outer scale, in meters\n",
    "        wavelength: the wavelength of light, in meters\n",
    "\n",
    "    Returns:\n",
    "        The PSF FWHM, in arcseconds\n",
    "    \"\"\"\n",
    "    # Calculate the DIMM estimate of the seeing using the Kolmogorov model,\n",
    "    # using eqn 5 from Tokovinin 2002PASP..114.1156T eqn 5\n",
    "    kol_seeing = 0.98*wavelength/r0\n",
    "\n",
    "    # Calculate the correction factor required to convert the Kolmogorov model\n",
    "    # seeing to the von Karman model seeing,\n",
    "    # using eqn 19 of Tokovinin 2002PASP..114.1156T\n",
    "    vk_correction2 = 1.0 - 2.183*np.power(r0/outer_scale, 0.356)\n",
    "\n",
    "    # Apply the correction factor\n",
    "    seeing_rad = kol_seeing * np.sqrt(vk_correction2)\n",
    "\n",
    "    # Convert to arcseconds\n",
    "    seeing = np.degrees(seeing_rad)*(60.0*60.0)\n",
    "\n",
    "    return seeing\n",
    "\n",
    "seeing500 = np.round(vk_seeing(10**mean_log_r0, outer_scale=30), 2)\n",
    "seeing500"
   ]
  },
  {
   "cell_type": "markdown",
   "metadata": {},
   "source": [
    "Now, apply the `opsim` seeing model:"
   ]
  },
  {
   "cell_type": "code",
   "execution_count": null,
   "metadata": {},
   "outputs": [],
   "source": [
    "seeing_model = SeeingModel()\n",
    "seeing = pd.Series(seeing_model(seeing500, 1.0)['fwhmEff'], index=bands.band)\n",
    "seeing"
   ]
  },
  {
   "cell_type": "markdown",
   "metadata": {},
   "source": [
    "## Sky"
   ]
  },
  {
   "cell_type": "markdown",
   "metadata": {},
   "source": [
    "Sample the sky at intervals for all dark time in the survey:"
   ]
  },
  {
   "cell_type": "code",
   "execution_count": null,
   "metadata": {},
   "outputs": [],
   "source": [
    "%%time\n",
    "mjd_range = (survey_start_mjd(), survey_start_mjd() + 10*365.25)\n",
    "all_mjds = np.arange(*mjd_range, mjd_sample_rate)\n",
    "all_times = astropy.time.Time(all_mjds, scale='utc', format='mjd', location=site)\n",
    "\n",
    "try:\n",
    "    with open(sun_cache_fname, 'rb') as sun_cache:\n",
    "        sun_coords = pickle.load(sun_cache)\n",
    "    with open(moon_cache_fname, 'rb') as moon_cache:\n",
    "        moon_coords = pickle.load(moon_cache)\n",
    "except FileNotFoundError:\n",
    "    sun_coords = astropy.coordinates.get_body('sun', all_times).transform_to(astropy.coordinates.AltAz(obstime=all_times, location=site))\n",
    "    with open(sun_cache_fname, 'wb') as fp:\n",
    "        pickle.dump(sun_coords, fp)\n",
    "\n",
    "    moon_coords = astropy.coordinates.get_body('moon', all_times).transform_to(astropy.coordinates.AltAz(obstime=all_times, location=site))\n",
    "    with open(moon_cache_fname, 'wb') as moon_cache:\n",
    "        pickle.dump(moon_coords, moon_cache)\n",
    "\n",
    "dark_idxs = np.logical_and(sun_coords.alt.deg < -18, moon_coords.alt.deg < -18)\n",
    "mjds = all_mjds[dark_idxs]\n",
    "times = all_times[dark_idxs]"
   ]
  },
  {
   "cell_type": "markdown",
   "metadata": {},
   "source": [
    "Find the healpixels for the standard pointing (zenith) for the sampled times:"
   ]
  },
  {
   "cell_type": "code",
   "execution_count": null,
   "metadata": {},
   "outputs": [],
   "source": [
    "def find_zenith_hpixs(mjd, site, nside, north=True):\n",
    "    lst = Time(mjd, format='mjd', location=site).sidereal_time('apparent').to_value(u.degree)\n",
    "    ra = lst\n",
    "    decl = site.lat.deg\n",
    "    hpix = healpy.ang2pix(nside, ra, decl, lonlat=True)\n",
    "    return hpix"
   ]
  },
  {
   "cell_type": "markdown",
   "metadata": {},
   "source": [
    "Actually calculate the sky brightnesses:"
   ]
  },
  {
   "cell_type": "code",
   "execution_count": null,
   "metadata": {},
   "outputs": [],
   "source": [
    "def compute_zenith_mags(mjds, sky_model, **kwargs):\n",
    "    zenith_hpixs = pd.DataFrame({'mjd': mjds,\n",
    "                                 'hpix': find_zenith_hpixs(mjds, **kwargs)})\n",
    "    mags = zenith_hpixs.apply(\n",
    "        lambda x: pd.Series({k: m[0] for k, m in sky_model.return_mags(x.mjd, \n",
    "                                                                       indx=np.array([x.hpix], dtype=int), \n",
    "                                                                       badval=np.nan).items()}),\n",
    "        axis=1)\n",
    "    mags['mjd'] = mjds\n",
    "    return mags\n",
    "    \n",
    "if __debug__:\n",
    "    df = compute_zenith_mags(np.arange(60000.7, 60001.7, 0.01), sky_model, site=site, nside=sky_model.nside)\n",
    "    ax = None\n",
    "    for band in bands.band:\n",
    "        ax = df.plot('mjd', band, ax=ax)"
   ]
  },
  {
   "cell_type": "code",
   "execution_count": null,
   "metadata": {},
   "outputs": [],
   "source": [
    "%%time\n",
    "try:\n",
    "    with open(sky_cache_fname, 'rb') as sky_cache:\n",
    "        dark_sky_mags = pickle.load(sky_cache)\n",
    "except FileNotFoundError:\n",
    "    dark_sky_mags = compute_zenith_mags(mjds, sky_model=sky_model, site=site, nside=sky_model.nside)\n",
    "    with open(sky_cache_fname, 'wb') as sky_cache:\n",
    "        pickle.dump(dark_sky_mags, sky_cache)"
   ]
  },
  {
   "cell_type": "markdown",
   "metadata": {},
   "source": [
    "Get the median dark sky in each band:"
   ]
  },
  {
   "cell_type": "code",
   "execution_count": null,
   "metadata": {},
   "outputs": [],
   "source": [
    "median_dark_sky = dark_sky_mags.median()\n",
    "median_dark_sky"
   ]
  },
  {
   "cell_type": "markdown",
   "metadata": {},
   "source": [
    "## Calculate the fiducial magnitudes"
   ]
  },
  {
   "cell_type": "code",
   "execution_count": null,
   "metadata": {},
   "outputs": [],
   "source": [
    "try:\n",
    "    # Make sure we are using parameters as defined in the code. \n",
    "    delattr(m5_flat_sed, 'cm')\n",
    "except AttributeError:\n",
    "    pass\n",
    "\n",
    "m0 = bands.copy()\n",
    "m0.apply(\n",
    "        lambda r: m5_flat_sed(r['band'], median_dark_sky[r['band']], seeing[r['band']], exp_time=15, airmass=1, nexp=2), axis=1).round(2)"
   ]
  },
  {
   "cell_type": "markdown",
   "metadata": {},
   "source": [
    "# Tracing the origin of differences with the SRD - see also PSTN-054"
   ]
  },
  {
   "cell_type": "markdown",
   "metadata": {},
   "source": [
    "## SRD m5"
   ]
  },
  {
   "cell_type": "markdown",
   "metadata": {},
   "source": [
    "Copy values from the SRD:"
   ]
  },
  {
   "cell_type": "code",
   "execution_count": null,
   "metadata": {},
   "outputs": [],
   "source": [
    "m5 = pd.DataFrame(\n",
    "    {'SRD spec': [23.9, 25.0, 24.7, 24.0, 23.3, 22.1],\n",
    "     'SRD min': [23.4 ,24.6, 24.3, 23.6, 22.9, 21.7],\n",
    "     'SRD stretch': [24.0, 25.1, 24.8, 24.1, 23.4, 22.2]},\n",
    "    index=bands.band)"
   ]
  },
  {
   "cell_type": "markdown",
   "metadata": {},
   "source": [
    "## Reproduce m5 from the overview paper"
   ]
  },
  {
   "cell_type": "markdown",
   "metadata": {},
   "source": [
    "Table 2 from p. 26 of the [overview paper](https://arxiv.org/abs/0805.2366)."
   ]
  },
  {
   "cell_type": "code",
   "execution_count": null,
   "metadata": {},
   "outputs": [],
   "source": [
    "overview_table2 = pd.DataFrame({'m_sky': [22.99, 22.26, 21.20, 20.48, 19.60, 18.61],\n",
    "                                'theta': [0.81, 0.77, 0.73, 0.71, 0.69, 0.68],\n",
    "                                'theta_eff': [0.92, 0.87, 0.83, 0.80, 0.79, 0.76],\n",
    "                                'gamma': [0.038, 0.039, 0.039, 0.039, 0.039, 0.039],\n",
    "                                'k_m': [0.491, 0.213, 0.126, 0.096, 0.069, 0.170],\n",
    "                                'C_m': [23.09, 24.42, 24.44, 24.32, 24.16, 23.73],\n",
    "                                'm5': [23.78, 24.81, 24.35, 23.92, 23.34, 22.45],\n",
    "                                'Delta_C_m_infinity': [0.62, 0.18, 0.10, 0.07, 0.05, 0.04],\n",
    "                                'Delta_C_m_2': [0.23, 0.08, 0.05, 0.03, 0.02, 0.02],\n",
    "                                'Delta_m5': [0.21, 0.16, 0.14, 0.13, 0.13, 0.14],\n",
    "                               }, index=bands.index)\n",
    "\n",
    "overview_table2.T"
   ]
  },
  {
   "cell_type": "markdown",
   "metadata": {},
   "source": [
    "Call `m5_flat_sed` once to instantiate default parameters."
   ]
  },
  {
   "cell_type": "code",
   "execution_count": null,
   "metadata": {},
   "outputs": [],
   "source": [
    "try:\n",
    "    # Make sure we are using parameters as defined in the code. \n",
    "    delattr(m5_flat_sed, 'Cm')\n",
    "except AttributeError:\n",
    "    pass\n",
    "\n",
    "_ = m5_flat_sed('u', 23, 1.0, 30.0, 1.0)"
   ]
  },
  {
   "cell_type": "code",
   "execution_count": null,
   "metadata": {},
   "outputs": [],
   "source": [
    "m5_flat_sed.Cm = overview_table2.C_m.to_dict()\n",
    "m5_flat_sed.dCm_infinity = overview_table2.Delta_C_m_infinity.to_dict()\n",
    "m5_flat_sed.kAtm = overview_table2.k_m\n",
    "m5_flat_sed.msky = overview_table2.m_sky"
   ]
  },
  {
   "cell_type": "code",
   "execution_count": null,
   "metadata": {},
   "outputs": [],
   "source": [
    "m5['overview'] = overview_table2.reset_index().apply(\n",
    "        lambda r: m5_flat_sed(r['band'], r['m_sky'], r['theta_eff'], exp_time=30, airmass=1.0, nexp=1), axis=1).values\n",
    "m5"
   ]
  },
  {
   "cell_type": "markdown",
   "metadata": {},
   "source": [
    "Compare m5 as re-derived from the table using `m5_flat_sed` with the actual values from the table:"
   ]
  },
  {
   "cell_type": "code",
   "execution_count": null,
   "metadata": {},
   "outputs": [],
   "source": [
    "m5['overview'] - overview_table2['m5']"
   ]
  },
  {
   "cell_type": "markdown",
   "metadata": {},
   "source": [
    "Okay, so close, but maybe some rounding difference."
   ]
  },
  {
   "cell_type": "markdown",
   "metadata": {},
   "source": [
    "## Move to airmass of 1.2"
   ]
  },
  {
   "cell_type": "markdown",
   "metadata": {},
   "source": [
    "See if we can reproduce the `theta_eff` from overview table 2 using `SeeingModel`, so we can use it to calculate the effective seeing at other airmasses."
   ]
  },
  {
   "cell_type": "code",
   "execution_count": null,
   "metadata": {},
   "outputs": [],
   "source": [
    "seeing_model = SeeingModel()"
   ]
  },
  {
   "cell_type": "code",
   "execution_count": null,
   "metadata": {},
   "outputs": [],
   "source": [
    "test_eff_seeing = pd.DataFrame(\n",
    "    {'table 2': overview_table2.theta_eff.values,\n",
    "     'SeeingModel': seeing_model(original_median_seeing500, 1.0)['fwhmEff']},\n",
    "index=bands.index)\n",
    "test_eff_seeing['difference'] = test_eff_seeing['SeeingModel'] - test_eff_seeing['table 2']\n",
    "test_eff_seeing"
   ]
  },
  {
   "cell_type": "markdown",
   "metadata": {},
   "source": [
    "Pre-compute the effective seeing at airmass"
   ]
  },
  {
   "cell_type": "code",
   "execution_count": null,
   "metadata": {},
   "outputs": [],
   "source": [
    "original_seeing_12 = pd.Series(seeing_model(original_median_seeing500, 1.2)['fwhmEff'], index=bands.index)\n",
    "original_seeing_12"
   ]
  },
  {
   "cell_type": "code",
   "execution_count": null,
   "metadata": {},
   "outputs": [],
   "source": [
    "m5['airmass'] = overview_table2.reset_index().apply(\n",
    "        lambda r: m5_flat_sed(r['band'], r['m_sky'], original_seeing_12[r['band']], exp_time=30, airmass=1.2, nexp=1), axis=1).values\n",
    "m5"
   ]
  },
  {
   "cell_type": "markdown",
   "metadata": {},
   "source": [
    "Compare change to airmass 1.2 to that reported in table 2:"
   ]
  },
  {
   "cell_type": "code",
   "execution_count": null,
   "metadata": {},
   "outputs": [],
   "source": [
    "test_airmass12 = pd.DataFrame({'table 2 Delta_m5': overview_table2.Delta_m5,\n",
    "                               'Delta_m5': m5['overview'] - m5['airmass']})\n",
    "test_airmass12['diff'] = test_airmass12['Delta_m5'] - test_airmass12['table 2 Delta_m5']\n",
    "test_airmass12"
   ]
  },
  {
   "cell_type": "markdown",
   "metadata": {},
   "source": [
    "## Update to use throughput in `sims_utils`"
   ]
  },
  {
   "cell_type": "markdown",
   "metadata": {},
   "source": [
    "Trigger reinitialzation of the parameters in `m5_flat_sed` to be defaults when called:"
   ]
  },
  {
   "cell_type": "code",
   "execution_count": null,
   "metadata": {},
   "outputs": [],
   "source": [
    "del m5_flat_sed.Cm"
   ]
  },
  {
   "cell_type": "code",
   "execution_count": null,
   "metadata": {},
   "outputs": [],
   "source": [
    "m5['throughput'] = overview_table2.reset_index().apply(\n",
    "        lambda r: m5_flat_sed(r['band'], r['m_sky'], original_seeing_12[r['band']], exp_time=30, airmass=1.2, nexp=1), axis=1).values\n",
    "m5"
   ]
  },
  {
   "cell_type": "markdown",
   "metadata": {},
   "source": [
    "## Switch to two exposures per visit"
   ]
  },
  {
   "cell_type": "code",
   "execution_count": null,
   "metadata": {},
   "outputs": [],
   "source": [
    "m5['2exp'] = overview_table2.reset_index().apply(\n",
    "        lambda r: m5_flat_sed(r['band'], r['m_sky'], original_seeing_12[r['band']], exp_time=15, airmass=1.2, nexp=2), axis=1).values\n",
    "m5"
   ]
  },
  {
   "cell_type": "markdown",
   "metadata": {},
   "source": [
    "Compare with the difference reported in overview table 2:"
   ]
  },
  {
   "cell_type": "code",
   "execution_count": null,
   "metadata": {},
   "outputs": [],
   "source": [
    "pd.DataFrame({'calculated': m5['throughput'] - m5['2exp'],\n",
    "              'overview': overview_table2['Delta_C_m_2'],\n",
    "              'diff': overview_table2['Delta_C_m_2'] + m5['2exp'] - m5['throughput']})"
   ]
  },
  {
   "cell_type": "markdown",
   "metadata": {},
   "source": [
    "## Change to the latest seeing model"
   ]
  },
  {
   "cell_type": "code",
   "execution_count": null,
   "metadata": {},
   "outputs": [],
   "source": [
    "seeing_airmass12 = pd.Series(seeing_model(seeing500, 1.2)['fwhmEff'], index=bands.band)\n",
    "seeing_airmass12"
   ]
  },
  {
   "cell_type": "code",
   "execution_count": null,
   "metadata": {},
   "outputs": [],
   "source": [
    "m5['seeing'] = overview_table2.reset_index().apply(\n",
    "        lambda r: m5_flat_sed(r['band'], r['m_sky'], seeing_airmass12[r['band']], exp_time=15, airmass=1.2, nexp=2), axis=1).values\n",
    "m5"
   ]
  },
  {
   "cell_type": "markdown",
   "metadata": {},
   "source": [
    "## Change to the latest sky brightness model and airmass=1.2"
   ]
  },
  {
   "cell_type": "code",
   "execution_count": null,
   "metadata": {},
   "outputs": [],
   "source": [
    "night_idxs = sun_coords.alt.deg < -14\n",
    "night_mjds = all_mjds[night_idxs]\n",
    "night_times = all_times[night_idxs]"
   ]
  },
  {
   "cell_type": "code",
   "execution_count": null,
   "metadata": {},
   "outputs": [],
   "source": [
    "def compute_zd_from_airmass(airmass, a=470.0):\n",
    "    mu = (1.0/airmass) + (1/(2.0*a))*((1.0/airmass) - airmass)\n",
    "    zd = np.degrees(np.arccos(mu))\n",
    "    return zd\n",
    "\n",
    "if __debug__:\n",
    "    # Bemporad values (empirical values for airmass as a function of zenith distance)\n",
    "    assert compute_zd_from_airmass(1)==0\n",
    "    assert np.round(compute_zd_from_airmass(1.154), 1)==30\n",
    "    assert np.round(compute_zd_from_airmass(1.995), 1)==60\n",
    "    assert np.round(compute_zd_from_airmass(2.904), 1)==70\n",
    "    assert np.round(compute_zd_from_airmass(18.8))==88"
   ]
  },
  {
   "cell_type": "code",
   "execution_count": null,
   "metadata": {},
   "outputs": [],
   "source": [
    "def compute_transiting_hpixs(mjd, airmass, site, nside, north=True):\n",
    "    zd = compute_zd_from_airmass(airmass)\n",
    "    lst = Time(mjd, format='mjd', location=site).sidereal_time('apparent').to_value(u.degree)\n",
    "    ra = lst\n",
    "    decl = site.lat.deg + zd if north else site.lat.degrees - zd\n",
    "    hpix = healpy.ang2pix(nside, ra, decl, lonlat=True)\n",
    "    return hpix"
   ]
  },
  {
   "cell_type": "markdown",
   "metadata": {},
   "source": [
    "Actually calculate the sky brightnesses:"
   ]
  },
  {
   "cell_type": "code",
   "execution_count": null,
   "metadata": {},
   "outputs": [],
   "source": [
    "def compute_transiting_mags(mjds, sky_model, **kwargs):\n",
    "    transiting_hpixs = pd.DataFrame({'mjd': mjds,\n",
    "                                     'hpix': compute_transiting_hpixs(mjds, **kwargs)})\n",
    "    mags = transiting_hpixs.apply(\n",
    "        lambda x: pd.Series({k: m[0] for k, m in sky_model.return_mags(x.mjd, indx=np.array([x.hpix], dtype=int), badval=np.nan).items()}),\n",
    "        axis=1)\n",
    "    mags['mjd'] = mjds\n",
    "    return mags\n",
    "    \n",
    "if __debug__:\n",
    "    df = compute_transiting_mags(np.arange(60000.7, 60001.7, 0.01), sky_model, airmass=1.2, site=site, nside=sky_model.nside)\n",
    "    ax = None\n",
    "    for band in bands.band:\n",
    "        ax = df.plot('mjd', band, ax=ax)"
   ]
  },
  {
   "cell_type": "code",
   "execution_count": null,
   "metadata": {},
   "outputs": [],
   "source": [
    "%%time\n",
    "try:\n",
    "    with open(sky_x12_cache_fname, 'rb') as sky_cache:\n",
    "        sky_mags_x12 = pickle.load(sky_cache)\n",
    "except FileNotFoundError:\n",
    "    sky_mags_x12 = compute_transiting_mags(night_mjds, sky_model=sky_model, airmass=1.2, site=site, nside=sky_model.nside)\n",
    "    with open(sky_x12_cache_fname, 'wb') as sky_cache:\n",
    "        pickle.dump(sky_mags_x12, sky_cache)"
   ]
  },
  {
   "cell_type": "code",
   "execution_count": null,
   "metadata": {},
   "outputs": [],
   "source": [
    "sky_x12_mag_stats = sky_mags_x12.describe()\n",
    "sky_x12_mag_stats"
   ]
  },
  {
   "cell_type": "markdown",
   "metadata": {},
   "source": [
    "The nominal total number of u, g, and r exposures is the same as the nominal total z and y.\n",
    "\n",
    "If we assume u, g, and r are observed in the darkest 50% of time, the z and y in the brightest, and the i evenly split, then we get:"
   ]
  },
  {
   "cell_type": "code",
   "execution_count": null,
   "metadata": {},
   "outputs": [],
   "source": [
    "typical_m_sky = pd.Series([\n",
    "    sky_x12_mag_stats.loc['75%', 'u'],\n",
    "    sky_x12_mag_stats.loc['75%', 'g'],\n",
    "    sky_x12_mag_stats.loc['75%', 'r'],\n",
    "    sky_x12_mag_stats.loc['50%', 'i'],\n",
    "    sky_x12_mag_stats.loc['25%', 'z'],\n",
    "    sky_x12_mag_stats.loc['25%', 'y']],\n",
    "    index=bands.index\n",
    ")\n",
    "typical_m_sky"
   ]
  },
  {
   "cell_type": "code",
   "execution_count": null,
   "metadata": {},
   "outputs": [],
   "source": [
    "m5['sky'] = overview_table2.reset_index().apply(\n",
    "        lambda r: m5_flat_sed(r['band'], typical_m_sky[r['band']], seeing_airmass12[r['band']], exp_time=15, airmass=1.2, nexp=2), axis=1).values\n",
    "m5"
   ]
  },
  {
   "cell_type": "markdown",
   "metadata": {},
   "source": [
    "## Baseline median and mean"
   ]
  },
  {
   "cell_type": "markdown",
   "metadata": {},
   "source": [
    "Look at what a baseline `opsim` simulation actually achieves."
   ]
  },
  {
   "cell_type": "code",
   "execution_count": null,
   "metadata": {},
   "outputs": [],
   "source": [
    "try:\n",
    "    visits = pd.read_hdf(visit_cache, opsim_name)\n",
    "except (FileNotFoundError, KeyError):\n",
    "    with sqlite3.connect(opsim_fname) as con:\n",
    "        visits = pd.read_sql_query('SELECT * FROM observations', con)\n",
    "    visits.set_index('band', drop=True, inplace=True)\n",
    "    visits.to_hdf(visit_cache, opsim_name)"
   ]
  },
  {
   "cell_type": "code",
   "execution_count": null,
   "metadata": {},
   "outputs": [],
   "source": [
    "m5['b. median'] = visits.groupby('band').agg({'fiveSigmaDepth': 'median'}).loc[bands.index, 'fiveSigmaDepth'].T\n",
    "m5['b. mean'] = visits.groupby('band').agg({'fiveSigmaDepth': 'mean'}).loc[bands.index, 'fiveSigmaDepth'].T\n",
    "m5"
   ]
  },
  {
   "cell_type": "markdown",
   "metadata": {},
   "source": [
    "## Baseline mag from mean t_eff"
   ]
  },
  {
   "cell_type": "code",
   "execution_count": null,
   "metadata": {},
   "outputs": [],
   "source": [
    "def compute_teff(ref_mags, mags=visits.fiveSigmaDepth):\n",
    "    t_eff = 10**(0.8*(mags-ref_mags.loc[mags.index]))\n",
    "    return t_eff"
   ]
  },
  {
   "cell_type": "code",
   "execution_count": null,
   "metadata": {},
   "outputs": [],
   "source": [
    "m5['b. teff mean'] = m5['SRD spec'] + 1.25*np.log10(compute_teff(m5['SRD spec'], visits.fiveSigmaDepth).groupby('band').mean())\n",
    "m5"
   ]
  },
  {
   "cell_type": "code",
   "execution_count": null,
   "metadata": {},
   "outputs": [],
   "source": [
    "print(m5)"
   ]
  },
  {
   "cell_type": "markdown",
   "metadata": {},
   "source": [
    "## Plot how the magnitude limits change with each modification from the SRD"
   ]
  },
  {
   "cell_type": "code",
   "execution_count": null,
   "metadata": {},
   "outputs": [],
   "source": [
    "m5_imp = m5[['overview', 'airmass', 'throughput', '2exp', 'seeing', 'sky']].T\n",
    "m5_imp.index.rename('step', inplace=True)\n",
    "m5_imp.reset_index(inplace=True)\n",
    "fig, axes = plt.subplots(2, 3, figsize=(16, 12))\n",
    "for band, ax in zip(bands.band, axes.flatten()):\n",
    "    ax.plot(m5_imp.index, m5_imp[band], marker='o', linestyle=' ', color='darkblue')\n",
    "    ax.plot(m5_imp.index, m5_imp[band], alpha=0.2, color='darkblue')\n",
    "    ax.set_xticks(np.arange(len(m5_imp['step'])))\n",
    "    ax.set_xticklabels(m5_imp['step'], rotation=20)\n",
    "    ax.set_title(band)\n",
    "    ax.axhline(m5.loc[band, 'SRD spec'], linestyle=':', color='k')\n",
    "    ax.text(0, m5.loc[band, 'SRD spec'], 'SRD spec', horizontalalignment='left', verticalalignment='top', color='k')\n",
    "    ax.axhline(m5.loc[band, 'SRD min'], linestyle=':', color='r')\n",
    "    ax.text(0, m5.loc[band, 'SRD min'], 'SRD min', horizontalalignment='left', verticalalignment='bottom', color='r')\n",
    "    ax.axhline(m5.loc[band, 'SRD stretch'], linestyle=':', color='g')\n",
    "    ax.text(0, m5.loc[band, 'SRD stretch'], 'SRD stretch', horizontalalignment='left', verticalalignment='top', color='g')\n",
    "    ax.axhline(m5.loc[band, 'b. median'], linestyle='--', color='b')\n",
    "    ax.text(0, m5.loc[band, 'b. median'], 'baseline 1.7 sim median', horizontalalignment='left', verticalalignment='top', color='b')\n",
    "    ax.axhline(m5.loc[band, 'b. teff mean'], linestyle='--', color='k')\n",
    "    ax.text(0, m5.loc[band, 'b. teff mean'], 'baseline 1.7 sim t_eff mean', horizontalalignment='left', verticalalignment='top', color='k')"
   ]
  },
  {
   "cell_type": "markdown",
   "metadata": {},
   "source": [
    "## Examine as differences from baseline averages"
   ]
  },
  {
   "cell_type": "code",
   "execution_count": null,
   "metadata": {},
   "outputs": [],
   "source": [
    "m5.apply(lambda c: c - m5['b. teff mean'], axis=0)"
   ]
  },
  {
   "cell_type": "code",
   "execution_count": null,
   "metadata": {},
   "outputs": [],
   "source": [
    "m5.apply(lambda c: c - m5['b. median'], axis=0)"
   ]
  },
  {
   "cell_type": "code",
   "execution_count": null,
   "metadata": {},
   "outputs": [],
   "source": [
    "m5.apply(lambda c: c - m5['b. mean'], axis=0)"
   ]
  },
  {
   "cell_type": "markdown",
   "metadata": {},
   "source": [
    "## Find t_eff stats"
   ]
  },
  {
   "cell_type": "code",
   "execution_count": null,
   "metadata": {},
   "outputs": [],
   "source": [
    "def compute_teff_stats(*args, **kwargs):\n",
    "    teff_stats = compute_teff(*args, **kwargs).groupby('band').describe().loc[bands.index].T\n",
    "    return teff_stats"
   ]
  },
  {
   "cell_type": "code",
   "execution_count": null,
   "metadata": {},
   "outputs": [],
   "source": [
    "m5.apply(lambda r: compute_teff_stats(r).loc['mean'])"
   ]
  },
  {
   "cell_type": "code",
   "execution_count": null,
   "metadata": {},
   "outputs": [],
   "source": [
    "m5.apply(lambda r: compute_teff_stats(r).loc['50%'])"
   ]
  },
  {
   "cell_type": "markdown",
   "metadata": {},
   "source": [
    "## Progression table"
   ]
  },
  {
   "cell_type": "code",
   "execution_count": null,
   "metadata": {},
   "outputs": [],
   "source": [
    "m5"
   ]
  },
  {
   "cell_type": "code",
   "execution_count": null,
   "metadata": {},
   "outputs": [],
   "source": [
    "m5prog = m5[['overview']].copy()\n",
    "\n",
    "m5prog['throughput'] = overview_table2.reset_index().apply(\n",
    "        lambda r: m5_flat_sed(r['band'], r['m_sky'], overview_table2['theta_eff'][r['band']], exp_time=15, airmass=1, nexp=2), axis=1).values\n",
    "m5prog['seeing'] = overview_table2.reset_index().apply(\n",
    "        lambda r: m5_flat_sed(r['band'], r['m_sky'],\n",
    "                              pd.Series(seeing_model(seeing500, 1.0)['fwhmEff'], index=bands.index)[r['band']],\n",
    "                              exp_time=15, airmass=1, nexp=2), axis=1).values\n",
    "m5prog['sky'] = overview_table2.reset_index().apply(\n",
    "        lambda r: m5_flat_sed(r['band'],\n",
    "                              dark_sky_mags[r['band']].median(),\n",
    "                              pd.Series(seeing_model(seeing500, 1.0)['fwhmEff'], index=bands.index)[r['band']],\n",
    "                              exp_time=15, airmass=1, nexp=2), axis=1).values\n",
    "m5prog['X_k'] = overview_table2.reset_index().apply(\n",
    "        lambda r: m5_flat_sed(r['band'],\n",
    "                              dark_sky_mags[r['band']].median(),\n",
    "                              pd.Series(seeing_model(seeing500, 1.0)['fwhmEff'], index=bands.index)[r['band']],\n",
    "                              exp_time=15, airmass=1.2, nexp=2), axis=1).values\n",
    "m5prog['X_seeing'] = overview_table2.reset_index().apply(\n",
    "        lambda r: m5_flat_sed(r['band'],\n",
    "                              dark_sky_mags[r['band']].median(),\n",
    "                              pd.Series(seeing_model(seeing500, 1.2)['fwhmEff'], index=bands.index)[r['band']],\n",
    "                              exp_time=15, airmass=1.2, nexp=2), axis=1).values\n",
    "m5prog['X'] = overview_table2.reset_index().apply(\n",
    "        lambda r: m5_flat_sed(r['band'],\n",
    "                              sky_x12_mag_stats.loc['75%', r['band']],\n",
    "                              pd.Series(seeing_model(seeing500, 1.2)['fwhmEff'], index=bands.index)[r['band']],\n",
    "                              exp_time=15, airmass=1.2, nexp=2), axis=1).values\n",
    "m5prog['moon'] = overview_table2.reset_index().apply(\n",
    "        lambda r: m5_flat_sed(r['band'],\n",
    "                              typical_m_sky[r['band']],\n",
    "                              pd.Series(seeing_model(seeing500, 1.2)['fwhmEff'], index=bands.index)[r['band']],\n",
    "                              exp_time=15, airmass=1.2, nexp=2), axis=1).values\n",
    "print(m5prog)"
   ]
  },
  {
   "cell_type": "code",
   "execution_count": null,
   "metadata": {},
   "outputs": [],
   "source": [
    "print(m5.loc[:, ['b. median', 'b. mean']].apply(lambda x: x - m5prog.moon).rename(columns={'b. median': 'sim median - model', 'b. mean': 'sim mean - model'}))"
   ]
  },
  {
   "cell_type": "code",
   "execution_count": null,
   "metadata": {},
   "outputs": [],
   "source": [
    "m5p_imp = m5prog.T\n",
    "m5p_imp.index.rename('step', inplace=True)\n",
    "m5p_imp.reset_index(inplace=True)\n",
    "fig, axes = plt.subplots(2, 3, figsize=(16, 12))\n",
    "for band, ax in zip(bands.band, axes.flatten()):\n",
    "    ax.plot(m5p_imp.index, m5p_imp[band], marker='o', linestyle=' ', color='darkblue')\n",
    "    ax.plot(m5p_imp.index, m5p_imp[band], alpha=0.2, color='darkblue')\n",
    "    ax.set_xticks(np.arange(len(m5p_imp['step'])))\n",
    "    ax.set_xticklabels(m5p_imp['step'], rotation=20)\n",
    "    ax.set_title(band)\n",
    "    ax.hlines(m5.loc[band, ['SRD spec', 'SRD min', 'SRD stretch']], xmin=0, xmax=3, linestyle=':', color='k')\n",
    "    ax.text(0, m5.loc[band, 'SRD spec'], 'SRD spec', horizontalalignment='left', verticalalignment='top', color='k')\n",
    "    ax.text(0, m5.loc[band, 'SRD min'], 'SRD min', horizontalalignment='left', verticalalignment='bottom', color='r')\n",
    "    ax.text(0, m5.loc[band, 'SRD stretch'], 'SRD stretch', horizontalalignment='left', verticalalignment='top', color='g')\n",
    "    ax.axhline(m5.loc[band, 'b. median'], linestyle='--', color='b')\n",
    "    ax.text(0, m5.loc[band, 'b. median'], 'baseline 1.7 sim median', horizontalalignment='left', verticalalignment='top', color='b')\n",
    "    ax.axhline(m5.loc[band, 'b. teff mean'], linestyle='--', color='k')\n",
    "    ax.text(0, m5.loc[band, 'b. teff mean'], 'baseline 1.7 sim t_eff mean', horizontalalignment='left', verticalalignment='top', color='k')"
   ]
  },
  {
   "cell_type": "markdown",
   "metadata": {},
   "source": [
    "## Using median airmass, seeing, sky brightness of baseline visits"
   ]
  },
  {
   "cell_type": "code",
   "execution_count": null,
   "metadata": {},
   "outputs": [],
   "source": [
    "m5visits = m5prog[['overview', 'throughput', 'seeing', 'sky']].copy()\n",
    "m5visits['sim_X'] = overview_table2.reset_index().apply(\n",
    "        lambda r: m5_flat_sed(r['band'],\n",
    "                              dark_sky_mags[r['band']].median(),\n",
    "                              pd.Series(seeing_model(seeing500, 1.0)['fwhmEff'], index=bands.index)[r['band']],\n",
    "                              exp_time=15, airmass=visits.loc[visits['filter']==r['band'],'airmass'].median(), nexp=2), axis=1).values\n",
    "m5visits['sim_seeing'] = overview_table2.reset_index().apply(\n",
    "        lambda r: m5_flat_sed(r['band'],\n",
    "                              dark_sky_mags[r['band']].median(),\n",
    "                              visits.loc[visits['filter']==r['band'], 'seeingFwhmEff'].median(),\n",
    "                              exp_time=15, airmass=visits.loc[visits['filter']==r['band'], 'airmass'].median(), nexp=2), axis=1).values\n",
    "m5visits['sim_sky'] = overview_table2.reset_index().apply(\n",
    "        lambda r: m5_flat_sed(r['band'],\n",
    "                              visits.loc[visits['filter']==r['band'], 'skyBrightness'].median(),\n",
    "                              visits.loc[visits['filter']==r['band'], 'seeingFwhmEff'].median(),\n",
    "                              exp_time=15, airmass=visits.loc[visits['filter']==r['band'],'airmass'].median(), nexp=2), axis=1).values\n",
    "print(m5visits)"
   ]
  },
  {
   "cell_type": "code",
   "execution_count": null,
   "metadata": {},
   "outputs": [],
   "source": [
    "print(m5.loc[:, ['b. median', 'b. mean']].apply(lambda x: x - m5visits.sim_sky).rename(columns={'b. median': 'sim median - model', 'b. mean': 'sim mean - model'}))"
   ]
  },
  {
   "cell_type": "code",
   "execution_count": null,
   "metadata": {},
   "outputs": [],
   "source": [
    "m5p_imp = m5visits.T\n",
    "m5p_imp.index.rename('step', inplace=True)\n",
    "m5p_imp.reset_index(inplace=True)\n",
    "fig, axes = plt.subplots(2, 3, figsize=(16, 12))\n",
    "for band, ax in zip(bands.band, axes.flatten()):\n",
    "    ax.plot(m5p_imp.index, m5p_imp[band], marker='o', linestyle=' ', color='darkblue')\n",
    "    ax.plot(m5p_imp.index, m5p_imp[band], alpha=0.2, color='darkblue')\n",
    "    ax.set_xticks(np.arange(len(m5p_imp['step'])))\n",
    "    ax.set_xticklabels(m5p_imp['step'], rotation=20)\n",
    "    ax.set_title(band)\n",
    "    ax.hlines(m5.loc[band, ['SRD spec', 'SRD min', 'SRD stretch']], xmin=0, xmax=3, linestyle=':', color='k')\n",
    "    ax.text(0, m5.loc[band, 'SRD spec'], 'SRD spec', horizontalalignment='left', verticalalignment='top', color='k')\n",
    "    ax.text(0, m5.loc[band, 'SRD min'], 'SRD min', horizontalalignment='left', verticalalignment='bottom', color='r')\n",
    "    ax.text(0, m5.loc[band, 'SRD stretch'], 'SRD stretch', horizontalalignment='left', verticalalignment='top', color='g')\n",
    "    ax.axhline(m5.loc[band, 'b. median'], linestyle='--', color='b')\n",
    "    ax.text(0, m5.loc[band, 'b. median'], 'baseline 1.7 sim median', horizontalalignment='left', verticalalignment='top', color='b')\n",
    "    ax.axhline(m5.loc[band, 'b. teff mean'], linestyle='--', color='k')\n",
    "    ax.text(0, m5.loc[band, 'b. teff mean'], 'baseline 1.7 sim t_eff mean', horizontalalignment='left', verticalalignment='top', color='k')"
   ]
  },
  {
   "cell_type": "markdown",
   "metadata": {},
   "source": [
    "## Sky brightness and moon"
   ]
  },
  {
   "cell_type": "code",
   "execution_count": null,
   "metadata": {},
   "outputs": [],
   "source": [
    "fig, axes = plt.subplots(3, 2, figsize=(13, 8))\n",
    "for band, ax in zip(bands.band, axes.flatten()):\n",
    "    visits.query(f\"band == '{band}'\").hist('skyBrightness', bins=100, ax=ax)\n",
    "    text_trans = mpl.transforms.blended_transform_factory(ax.transData, ax.transAxes)\n",
    "    \n",
    "    ax.axvline(sky_x12_mag_stats.loc['mean', band], color='darkblue')\n",
    "    ax.text(sky_x12_mag_stats.loc['mean', band], 1, 'mean at X=1.2', transform=text_trans, horizontalalignment='right', verticalalignment='top', rotation=90, color='darkblue')\n",
    "\n",
    "    ax.axvline(sky_x12_mag_stats.loc['min', band], color='black', linestyle=\":\")\n",
    "    ax.text(sky_x12_mag_stats.loc['min', band], 1, 'min at X=1.2', transform=text_trans, horizontalalignment='right', verticalalignment='top', rotation=90, color='black')\n",
    "    ax.axvline(sky_x12_mag_stats.loc['max', band], color='black', linestyle=\":\")\n",
    "    \n",
    "    ax.axvline(sky_x12_mag_stats.loc['25%', band], color='black', linestyle='--')\n",
    "    ax.text(sky_x12_mag_stats.loc['25%', band], 1, '25% at X=1.2', transform=text_trans, horizontalalignment='right', verticalalignment='top', rotation=90, color='black')\n",
    "    ax.axvline(sky_x12_mag_stats.loc['75%', band], color='black', linestyle='--')\n",
    "\n",
    "    ax.axvline(sky_x12_mag_stats.loc['50%', band], color='black')\n",
    "    ax.text(sky_x12_mag_stats.loc['50%', band], 1, 'median at X=1.2', transform=text_trans, horizontalalignment='right', verticalalignment='top', rotation=90, color='black')\n",
    "\n",
    "    ax.set_title(band)"
   ]
  },
  {
   "cell_type": "code",
   "execution_count": null,
   "metadata": {},
   "outputs": [],
   "source": [
    "sky_mags_x12.describe()"
   ]
  },
  {
   "cell_type": "markdown",
   "metadata": {},
   "source": [
    "## Checking parameters from sims_utils"
   ]
  },
  {
   "cell_type": "code",
   "execution_count": null,
   "metadata": {},
   "outputs": [],
   "source": [
    "sims_utils_params = pd.DataFrame({'C_m': m5_flat_sed.cm,\n",
    "                                  'Delta_C_m_infinity': m5_flat_sed.d_cm_infinity})\n",
    "param_compare = pd.concat([overview_table2[sims_utils_params.columns], sims_utils_params], keys=['overview table 2', 'sims_utils'], axis=1).reorder_levels((1,0), axis=1)\n",
    "param_compare = param_compare.reindex(sorted(param_compare.columns), axis=1)\n",
    "print(param_compare)"
   ]
  },
  {
   "cell_type": "markdown",
   "metadata": {},
   "source": [
    "## Coadd-depth based $t_{\\mbox{eff}}$"
   ]
  },
  {
   "cell_type": "code",
   "execution_count": null,
   "metadata": {},
   "outputs": [],
   "source": [
    "coadd_depth = pd.DataFrame({'mag': [26.1, 27.4, 27.5, 26.8, 26.1, 24.9],\n",
    "                            'visits': [56, 80, 184, 184, 160, 160]}, index=bands.band).reindex(visits.index)\n",
    "coadd_depth['m0'] = coadd_depth.mag - 1.25*np.log10(coadd_depth.visits)\n",
    "coadd_depth['prog'] = m5prog.moon\n",
    "coadd_depth['round'] = np.round(m5prog.sky*2)/2\n",
    "coadd_depth['m0_visit_teff'] = (10**(0.8*(visits.fiveSigmaDepth - coadd_depth.m0))).groupby('band').mean()\n",
    "coadd_depth['prog_visit_teff'] = (10**(0.8*(visits.fiveSigmaDepth - coadd_depth.prog))).groupby('band').mean()\n",
    "coadd_depth['round_visit_teff'] = (10**(0.8*(visits.fiveSigmaDepth - coadd_depth['round']))).groupby('band').mean()\n",
    "coadd_depth.groupby('band').first().loc[bands.band]"
   ]
  },
  {
   "cell_type": "markdown",
   "metadata": {},
   "source": [
    "## Best possible as reference for $t_{\\mbox{eff}}$"
   ]
  },
  {
   "cell_type": "code",
   "execution_count": null,
   "metadata": {},
   "outputs": [],
   "source": [
    "overview_table2.reset_index().apply(\n",
    "        lambda r: m5_flat_sed(r['band'],\n",
    "                              dark_sky_mags[r['band']].max(),\n",
    "                              pd.Series(seeing_model(0.0, 1.0)['fwhmEff'], index=bands.index)[r['band']],\n",
    "                              exp_time=15, airmass=1, nexp=2), axis=1)"
   ]
  },
  {
   "cell_type": "code",
   "execution_count": null,
   "metadata": {},
   "outputs": [],
   "source": [
    "best_m5 = pd.DataFrame({\n",
    "    'm5': overview_table2.reset_index().apply(lambda r: m5_flat_sed(r['band'],\n",
    "                                                                    dark_sky_mags[r['band']].max(),\n",
    "                                                                    pd.Series(seeing_model(0.0, 1.0)['fwhmEff'], index=bands.index)[r['band']],\n",
    "                                                                    exp_time=15, airmass=1, nexp=2), axis=1).values},\n",
    "    index=bands.band)\n",
    "best_m5['round_best'] = np.round(best_m5.m5*2)/2\n",
    "best_m5['m5 mean teff'] = 30*(10**(0.8*(visits.fiveSigmaDepth - best_m5.reindex(visits.index).m5))).groupby('band').mean()\n",
    "best_m5['round mean teff'] = 30*(10**(0.8*(visits.fiveSigmaDepth - best_m5.reindex(visits.index).round_best))).groupby('band').mean()\n",
    "best_m5"
   ]
  },
  {
   "cell_type": "markdown",
   "metadata": {},
   "source": [
    "### Distributions of t_eff in units of ideal visits, unrounded reference points"
   ]
  },
  {
   "cell_type": "code",
   "execution_count": null,
   "metadata": {},
   "outputs": [],
   "source": [
    "teff = (10**(0.8*(visits.fiveSigmaDepth - best_m5.reindex(visits.index).m5)))\n",
    "fig, axes = plt.subplots(3,2, sharex=True, sharey=True)\n",
    "for band, ax in zip(bands.band, axes.flatten()):\n",
    "    teff[band].hist(bins=np.arange(20)/30, ax=ax, density=True)\n",
    "    ax.text(0.97, 0.95, band, horizontalalignment='right', verticalalignment='top', transform=ax.transAxes)\n",
    "    ax.set_yticklabels([])\n",
    "plt.tight_layout()"
   ]
  },
  {
   "cell_type": "markdown",
   "metadata": {},
   "source": [
    "### Distributions in units of ideal seconds, unrounded reference points"
   ]
  },
  {
   "cell_type": "code",
   "execution_count": null,
   "metadata": {},
   "outputs": [],
   "source": [
    "teff = 30*(10**(0.8*(visits.fiveSigmaDepth - best_m5.reindex(visits.index).m5)))\n",
    "fig, axes = plt.subplots(3,2, sharex=True, sharey=True)\n",
    "for band, ax in zip(bands.band, axes.flatten()):\n",
    "    teff[band].hist(bins=np.arange(20), ax=ax, density=True)\n",
    "    ax.text(0.97, 0.95, band, horizontalalignment='right', verticalalignment='top', transform=ax.transAxes)\n",
    "    ax.set_yticklabels([])\n",
    "plt.tight_layout()"
   ]
  },
  {
   "cell_type": "markdown",
   "metadata": {},
   "source": [
    "### Distributions in unites of ideal seconds, rounded reference points"
   ]
  },
  {
   "cell_type": "code",
   "execution_count": null,
   "metadata": {},
   "outputs": [],
   "source": [
    "round_teff = 30*(10**(0.8*(visits.fiveSigmaDepth - best_m5.reindex(visits.index).round_best)))"
   ]
  },
  {
   "cell_type": "code",
   "execution_count": null,
   "metadata": {},
   "outputs": [],
   "source": [
    "fig, axes = plt.subplots(3,2, sharex=True, sharey=True)\n",
    "for band, ax in zip(bands.band, axes.flatten()):\n",
    "    round_teff[band].hist(bins=np.arange(20), ax=ax, density=True)\n",
    "    ax.text(0.97, 0.95, band, horizontalalignment='right', verticalalignment='top', transform=ax.transAxes)\n",
    "    ax.set_yticklabels([])\n",
    "plt.tight_layout()"
   ]
  },
  {
   "cell_type": "code",
   "execution_count": null,
   "metadata": {},
   "outputs": [],
   "source": []
  },
  {
   "cell_type": "code",
   "execution_count": null,
   "metadata": {},
   "outputs": [],
   "source": []
  }
 ],
 "metadata": {
  "kernelspec": {
   "display_name": "devel313",
   "language": "python",
   "name": "python3"
  },
  "language_info": {
   "codemirror_mode": {
    "name": "ipython",
    "version": 3
   },
   "file_extension": ".py",
   "mimetype": "text/x-python",
   "name": "python",
   "nbconvert_exporter": "python",
   "pygments_lexer": "ipython3",
   "version": "3.13.2"
  }
 },
 "nbformat": 4,
 "nbformat_minor": 4
}
